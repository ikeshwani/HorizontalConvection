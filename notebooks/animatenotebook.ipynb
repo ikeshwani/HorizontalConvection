{
 "cells": [
  {
   "cell_type": "code",
   "execution_count": 1,
   "id": "337c8077-2342-48a2-9403-5295e307982e",
   "metadata": {},
   "outputs": [],
   "source": [
    "using Printf\n",
    "using CairoMakie\n",
    "using NCDatasets\n",
    "using TopographicHorizontalConvection: HorizontalConvectionSimulation\n",
    "using Oceananigans\n",
    "using Oceananigans.Fields\n",
    "using Oceananigans.AbstractOperations: volume"
   ]
  },
  {
   "cell_type": "code",
   "execution_count": 3,
   "id": "befe052e-362c-404c-ba35-02abea066545",
   "metadata": {},
   "outputs": [
    {
     "name": "stderr",
     "output_type": "stream",
     "text": [
      "\u001b[36m\u001b[1m[ \u001b[22m\u001b[39m\u001b[36m\u001b[1mInfo: \u001b[22m\u001b[39mMaking an animation from saved data...\n"
     ]
    },
    {
     "ename": "LoadError",
     "evalue": "syntax: \"$\" expression outside quote around In[3]:18",
     "output_type": "error",
     "traceback": [
      "syntax: \"$\" expression outside quote around In[3]:18",
      "",
      "Stacktrace:",
      " [1] top-level scope",
      "   @ In[3]:18"
     ]
    }
   ],
   "source": [
    "saved_output_filename = NCDataset(string(\"/pub/hfdrake/code/HorizontalConvection/output/turbulent_h0.6_buoyancy.nc\"));\n",
    "\n",
    "b_timeseries = saved_output_filename[\"b\"][4+1:end-4, 4+1:end-4, 4+1:end-4, :]\n",
    "time = saved_output_filename[\"time\"]\n",
    "\n",
    "t_final = time[end]\n",
    "\n",
    "x = saved_output_filename[\"xC\"][4+1:end-4]\n",
    "y = saved_output_filename[\"yC\"][4+1:end-4]\n",
    "z = saved_output_filename[\"zC\"][4+1:end-4]\n",
    "\n",
    "@info \"Making an animation from saved data...\"\n",
    "\n",
    "n = Observable(1)\n",
    "\n",
    "title = @lift @sprintf(\"buoyancy [m/s²] at t = %.2f\", time[$n])\n",
    "\n",
    "bₙ = b_timeseries[$n]\n",
    "\n",
    "H = 1\n",
    "Lx = 4H\n",
    "\n",
    "axis_kwargs = (xlabel = L\"x / H\",\n",
    "               ylabel = L\"z / H\",\n",
    "               limits = ((-4, 4), (-1, 0)),\n",
    "               aspect = Lx / H,\n",
    "               titlesize = 20)\n",
    "\n",
    "fig = Figure(size=(800, 600))\n",
    "\n",
    "ax_B = Axis(fig[1, 1]; title = title, kwargs...)\n",
    "\n",
    "B_lims = (-0.9143529691691485, 0.9143529691691485)\n",
    "\n",
    "hm_B = heatmap!(ax_B, x, z, bₙ; colorrange = B_lims, colormap = :balance)\n",
    "Colorbar(fig[1, 2], hm_B)\n",
    "\n",
    "frames = 1:length(time)\n",
    "\n",
    "record(fig, \"../animations/thc.mp4\", frames, framerate=8) do i\n",
    "    n[] = i\n",
    "end\n"
   ]
  },
  {
   "cell_type": "code",
   "execution_count": null,
   "id": "8fb47cdc-32f5-459d-9659-839e84a5628f",
   "metadata": {},
   "outputs": [],
   "source": []
  }
 ],
 "metadata": {
  "kernelspec": {
   "display_name": "Julia 1.9.3",
   "language": "julia",
   "name": "julia-1.9"
  },
  "language_info": {
   "file_extension": ".jl",
   "mimetype": "application/julia",
   "name": "julia",
   "version": "1.9.3"
  }
 },
 "nbformat": 4,
 "nbformat_minor": 5
}
