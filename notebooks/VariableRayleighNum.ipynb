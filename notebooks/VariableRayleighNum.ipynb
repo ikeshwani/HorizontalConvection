{
 "cells": [
  {
   "cell_type": "code",
   "execution_count": 1,
   "metadata": {},
   "outputs": [],
   "source": [
    "using Oceananigans"
   ]
  },
  {
   "cell_type": "code",
   "execution_count": 2,
   "metadata": {},
   "outputs": [],
   "source": [
    "using TopographicHorizontalConvection: HorizontalConvectionSimulation"
   ]
  },
  {
   "cell_type": "code",
   "execution_count": 3,
   "metadata": {},
   "outputs": [
    {
     "name": "stderr",
     "output_type": "stream",
     "text": [
      "┌ Warning: Overwriting existing ./../output/turbulent_h0.6_buoyancy.nc.\n",
      "└ @ Oceananigans.OutputWriters /Users/hfdrake/.julia/packages/Oceananigans/thcPW/src/OutputWriters/netcdf_output_writer.jl:433\n",
      "┌ Warning: Overwriting existing ./../output/turbulent_h0.6_velocities.nc.\n",
      "└ @ Oceananigans.OutputWriters /Users/hfdrake/.julia/packages/Oceananigans/thcPW/src/OutputWriters/netcdf_output_writer.jl:433\n",
      "┌ Warning: Overwriting existing ./../output/turbulent_h0.6_zonal_time_means.nc.\n",
      "└ @ Oceananigans.OutputWriters /Users/hfdrake/.julia/packages/Oceananigans/thcPW/src/OutputWriters/netcdf_output_writer.jl:433\n"
     ]
    },
    {
     "data": {
      "text/plain": [
       "Simulation of NonhydrostaticModel{CPU, ImmersedBoundaryGrid}(time = 0 seconds, iteration = 0)\n",
       "├── Next time step: 17.678 ms\n",
       "├── Elapsed wall time: 0 seconds\n",
       "├── Wall time per iteration: NaN days\n",
       "├── Stop time: 50 seconds\n",
       "├── Stop iteration : Inf\n",
       "├── Wall time limit: Inf\n",
       "├── Callbacks: OrderedDict with 6 entries:\n",
       "│   ├── stop_time_exceeded => Callback of stop_time_exceeded on IterationInterval(1)\n",
       "│   ├── stop_iteration_exceeded => Callback of stop_iteration_exceeded on IterationInterval(1)\n",
       "│   ├── wall_time_limit_exceeded => Callback of wall_time_limit_exceeded on IterationInterval(1)\n",
       "│   ├── nan_checker => Callback of NaNChecker for u on IterationInterval(100)\n",
       "│   ├── wizard => Callback of TimeStepWizard(cfl=0.5, max_Δt=Inf, min_Δt=0.0) on IterationInterval(50)\n",
       "│   └── progress => Callback of (::TopographicHorizontalConvection.var\"#progress#6\") on IterationInterval(10)\n",
       "├── Output writers: OrderedDict with 5 entries:\n",
       "│   ├── checkpointer => Checkpointer{TimeInterval, Vector{Symbol}}\n",
       "│   ├── buoyancy => NetCDFOutputWriter writing (chi, b) to ./../output/turbulent_h0.6_buoyancy.nc on TimeInterval(10 seconds)\n",
       "│   ├── velocities => NetCDFOutputWriter writing (w, u) to ./../output/turbulent_h0.6_velocities.nc on TimeInterval(1.667 minutes)\n",
       "│   ├── section_snapshots => NetCDFOutputWriter writing (pe, b, ke) to ./../output/turbulent_h0.6_section_snapshots.nc on TimeInterval(1 second)\n",
       "│   └── zonal_time_means => NetCDFOutputWriter writing b to ./../output/turbulent_h0.6_zonal_time_means.nc on TimeInterval(1 second)\n",
       "└── Diagnostics: OrderedDict with no entries"
      ]
     },
     "metadata": {},
     "output_type": "display_data"
    }
   ],
   "source": [
    "simulation = HorizontalConvectionSimulation(Ra=1e9, h₀_frac=0.6, advection=true)"
   ]
  },
  {
   "cell_type": "code",
   "execution_count": 5,
   "metadata": {},
   "outputs": [
    {
     "name": "stderr",
     "output_type": "stream",
     "text": [
      "┌ Info: Initializing simulation...\n",
      "└ @ Oceananigans.Simulations /Users/hfdrake/.julia/packages/Oceananigans/thcPW/src/Simulations/run.jl:184\n"
     ]
    },
    {
     "name": "stdout",
     "output_type": "stream",
     "text": [
      "i:      0, sim time:  0.000, wall time:  0 seconds, Δt:  0.0194, advective CFL: 0.00e+00, diffusive CFL: 6.30e-04\n"
     ]
    },
    {
     "name": "stderr",
     "output_type": "stream",
     "text": [
      "┌ Info:     ... simulation initialization complete (13.004 seconds)\n",
      "└ @ Oceananigans.Simulations /Users/hfdrake/.julia/packages/Oceananigans/thcPW/src/Simulations/run.jl:220\n",
      "┌ Info: Executing initial time step...\n",
      "└ @ Oceananigans.Simulations /Users/hfdrake/.julia/packages/Oceananigans/thcPW/src/Simulations/run.jl:117\n",
      "┌ Info:     ... initial time step complete (7.732 seconds).\n",
      "└ @ Oceananigans.Simulations /Users/hfdrake/.julia/packages/Oceananigans/thcPW/src/Simulations/run.jl:126\n"
     ]
    },
    {
     "name": "stdout",
     "output_type": "stream",
     "text": [
      "i:     10, sim time:  0.194, wall time: 21.525 seconds, Δt:  0.0194, advective CFL: 4.60e-06, diffusive CFL: 6.30e-04\n",
      "i:     20, sim time:  0.389, wall time: 21.996 seconds, Δt:  0.0194, advective CFL: 1.79e-05, diffusive CFL: 6.30e-04\n",
      "i:     30, sim time:  0.583, wall time: 22.509 seconds, Δt:  0.0194, advective CFL: 3.99e-05, diffusive CFL: 6.30e-04\n",
      "i:     40, sim time:  0.778, wall time: 22.963 seconds, Δt:  0.0194, advective CFL: 7.05e-05, diffusive CFL: 6.30e-04\n",
      "i:     50, sim time:  0.972, wall time: 23.405 seconds, Δt:  0.0214, advective CFL: 1.21e-04, diffusive CFL: 6.93e-04\n",
      "i:     60, sim time:  1.171, wall time: 23.853 seconds, Δt:  0.0214, advective CFL: 1.74e-04, diffusive CFL: 6.93e-04\n",
      "i:     70, sim time:  1.385, wall time: 24.322 seconds, Δt:  0.0214, advective CFL: 2.42e-04, diffusive CFL: 6.93e-04\n",
      "i:     80, sim time:  1.599, wall time: 24.874 seconds, Δt:  0.0214, advective CFL: 3.21e-04, diffusive CFL: 6.93e-04\n",
      "i:     90, sim time:  1.813, wall time: 25.540 seconds, Δt:  0.0214, advective CFL: 4.10e-04, diffusive CFL: 6.93e-04\n",
      "i:    100, sim time:  2.021, wall time: 26.049 seconds, Δt:  0.0235, advective CFL: 5.59e-04, diffusive CFL: 7.62e-04\n",
      "i:    110, sim time:  2.257, wall time: 26.513 seconds, Δt:  0.0235, advective CFL: 6.92e-04, diffusive CFL: 7.62e-04\n",
      "i:    120, sim time:  2.492, wall time: 26.982 seconds, Δt:  0.0235, advective CFL: 8.40e-04, diffusive CFL: 7.62e-04\n",
      "i:    130, sim time:  2.727, wall time: 27.483 seconds, Δt:  0.0235, advective CFL: 1.00e-03, diffusive CFL: 7.62e-04\n",
      "i:    140, sim time:  2.963, wall time: 28.121 seconds, Δt:  0.0235, advective CFL: 1.18e-03, diffusive CFL: 7.62e-04\n",
      "i:    150, sim time:  3.188, wall time: 28.821 seconds, Δt:  0.0259, advective CFL: 1.49e-03, diffusive CFL: 8.38e-04\n",
      "i:    160, sim time:  3.447, wall time: 29.297 seconds, Δt:  0.0259, advective CFL: 1.73e-03, diffusive CFL: 8.38e-04\n",
      "i:    170, sim time:  3.706, wall time: 29.755 seconds, Δt:  0.0259, advective CFL: 1.99e-03, diffusive CFL: 8.38e-04\n",
      "i:    180, sim time:  3.965, wall time: 30.230 seconds, Δt:  0.0259, advective CFL: 2.27e-03, diffusive CFL: 8.38e-04\n",
      "i:    190, sim time:  4.207, wall time: 30.671 seconds, Δt:  0.0259, advective CFL: 2.54e-03, diffusive CFL: 8.38e-04\n",
      "i:    200, sim time:  4.466, wall time: 31.129 seconds, Δt:  0.0285, advective CFL: 3.13e-03, diffusive CFL: 9.22e-04\n",
      "i:    210, sim time:  4.751, wall time: 31.583 seconds, Δt:  0.0285, advective CFL: 3.52e-03, diffusive CFL: 9.22e-04\n",
      "i:    220, sim time:  5.028, wall time: 32.057 seconds, Δt:  0.0285, advective CFL: 3.93e-03, diffusive CFL: 9.22e-04\n",
      "i:    230, sim time:  5.313, wall time: 32.532 seconds, Δt:  0.0285, advective CFL: 4.36e-03, diffusive CFL: 9.22e-04\n",
      "i:    240, sim time:  5.598, wall time: 32.997 seconds, Δt:  0.0285, advective CFL: 4.81e-03, diffusive CFL: 9.22e-04\n",
      "i:    250, sim time:  5.883, wall time: 33.449 seconds, Δt:  0.0313, advective CFL: 5.81e-03, diffusive CFL: 1.01e-03\n",
      "i:    260, sim time:  6.188, wall time: 33.882 seconds, Δt:  0.0313, advective CFL: 6.39e-03, diffusive CFL: 1.01e-03\n",
      "i:    270, sim time:  6.501, wall time: 34.320 seconds, Δt:  0.0313, advective CFL: 7.01e-03, diffusive CFL: 1.01e-03\n",
      "i:    280, sim time:  6.814, wall time: 34.771 seconds, Δt:  0.0313, advective CFL: 7.66e-03, diffusive CFL: 1.01e-03\n",
      "i:    290, sim time:  7.125, wall time: 35.209 seconds, Δt:  0.0313, advective CFL: 8.33e-03, diffusive CFL: 1.01e-03\n",
      "i:    300, sim time:  7.438, wall time: 35.664 seconds, Δt:  0.0344, advective CFL: 9.92e-03, diffusive CFL: 1.12e-03\n",
      "i:    310, sim time:  7.783, wall time: 36.118 seconds, Δt:  0.0344, advective CFL: 1.58e-02, diffusive CFL: 1.12e-03\n",
      "i:    320, sim time:  8.103, wall time: 36.545 seconds, Δt:  0.0344, advective CFL: 2.52e-02, diffusive CFL: 1.12e-03\n",
      "i:    330, sim time:  8.448, wall time: 37.000 seconds, Δt:  0.0344, advective CFL: 4.15e-02, diffusive CFL: 1.12e-03\n",
      "i:    340, sim time:  8.792, wall time: 37.460 seconds, Δt:  0.0344, advective CFL: 6.30e-02, diffusive CFL: 1.12e-03\n",
      "i:    350, sim time:  9.103, wall time: 37.905 seconds, Δt:  0.0379, advective CFL: 9.18e-02, diffusive CFL: 1.23e-03\n",
      "i:    360, sim time:  9.482, wall time: 38.349 seconds, Δt:  0.0379, advective CFL: 1.36e-01, diffusive CFL: 1.23e-03\n",
      "i:    370, sim time:  9.861, wall time: 38.792 seconds, Δt:  0.0379, advective CFL: 1.46e-01, diffusive CFL: 1.23e-03\n",
      "i:    380, sim time:  10.227, wall time: 39.244 seconds, Δt:  0.0379, advective CFL: 1.75e-01, diffusive CFL: 1.23e-03\n",
      "i:    390, sim time:  10.606, wall time: 39.692 seconds, Δt:  0.0379, advective CFL: 1.87e-01, diffusive CFL: 1.23e-03\n",
      "i:    400, sim time:  10.985, wall time: 40.145 seconds, Δt:  0.0417, advective CFL: 2.00e-01, diffusive CFL: 1.35e-03\n",
      "i:    410, sim time:  11.375, wall time: 40.605 seconds, Δt:  0.0417, advective CFL: 2.03e-01, diffusive CFL: 1.35e-03\n",
      "i:    420, sim time:  11.792, wall time: 41.059 seconds, Δt:  0.0417, advective CFL: 2.16e-01, diffusive CFL: 1.35e-03\n",
      "i:    430, sim time:  12.208, wall time: 41.524 seconds, Δt:  0.0417, advective CFL: 2.21e-01, diffusive CFL: 1.35e-03\n",
      "i:    440, sim time:  12.625, wall time: 41.964 seconds, Δt:  0.0417, advective CFL: 2.10e-01, diffusive CFL: 1.35e-03\n",
      "i:    450, sim time:  13.042, wall time: 42.417 seconds, Δt:  0.0459, advective CFL: 2.43e-01, diffusive CFL: 1.48e-03\n",
      "i:    460, sim time:  13.500, wall time: 42.971 seconds, Δt:  0.0459, advective CFL: 2.57e-01, diffusive CFL: 1.48e-03\n",
      "i:    470, sim time:  13.959, wall time: 43.441 seconds, Δt:  0.0459, advective CFL: 2.88e-01, diffusive CFL: 1.48e-03\n",
      "i:    480, sim time:  14.413, wall time: 43.870 seconds, Δt:  0.0459, advective CFL: 2.87e-01, diffusive CFL: 1.48e-03\n",
      "i:    490, sim time:  14.871, wall time: 44.333 seconds, Δt:  0.0459, advective CFL: 3.28e-01, diffusive CFL: 1.48e-03\n",
      "i:    500, sim time:  15.321, wall time: 44.782 seconds, Δt:  0.0504, advective CFL: 4.15e-01, diffusive CFL: 1.63e-03\n",
      "i:    510, sim time:  15.825, wall time: 45.252 seconds, Δt:  0.0504, advective CFL: 4.52e-01, diffusive CFL: 1.63e-03\n",
      "i:    520, sim time:  16.303, wall time: 45.685 seconds, Δt:  0.0504, advective CFL: 4.68e-01, diffusive CFL: 1.63e-03\n",
      "i:    530, sim time:  16.807, wall time: 46.144 seconds, Δt:  0.0504, advective CFL: 4.61e-01, diffusive CFL: 1.63e-03\n",
      "i:    540, sim time:  17.303, wall time: 46.580 seconds, Δt:  0.0504, advective CFL: 5.17e-01, diffusive CFL: 1.63e-03\n",
      "i:    550, sim time:  17.807, wall time: 47.034 seconds, Δt:  0.0459, advective CFL: 5.00e-01, diffusive CFL: 1.48e-03\n",
      "i:    560, sim time:  18.229, wall time: 47.465 seconds, Δt:  0.0459, advective CFL: 4.61e-01, diffusive CFL: 1.48e-03\n",
      "i:    570, sim time:  18.688, wall time: 47.912 seconds, Δt:  0.0459, advective CFL: 4.65e-01, diffusive CFL: 1.48e-03\n",
      "i:    580, sim time:  19.138, wall time: 48.343 seconds, Δt:  0.0459, advective CFL: 4.72e-01, diffusive CFL: 1.48e-03\n",
      "i:    590, sim time:  19.596, wall time: 48.793 seconds, Δt:  0.0459, advective CFL: 5.01e-01, diffusive CFL: 1.48e-03\n",
      "i:    600, sim time:  20.046, wall time: 49.268 seconds, Δt:  0.0389, advective CFL: 5.00e-01, diffusive CFL: 1.26e-03\n",
      "i:    610, sim time:  20.435, wall time: 49.704 seconds, Δt:  0.0389, advective CFL: 5.68e-01, diffusive CFL: 1.26e-03\n",
      "i:    620, sim time:  20.824, wall time: 50.164 seconds, Δt:  0.0389, advective CFL: 5.59e-01, diffusive CFL: 1.26e-03\n",
      "i:    630, sim time:  21.195, wall time: 50.599 seconds, Δt:  0.0389, advective CFL: 5.46e-01, diffusive CFL: 1.26e-03\n",
      "i:    640, sim time:  21.584, wall time: 51.055 seconds, Δt:  0.0389, advective CFL: 5.21e-01, diffusive CFL: 1.26e-03\n",
      "i:    650, sim time:  21.973, wall time: 51.540 seconds, Δt:  0.0386, advective CFL: 5.00e-01, diffusive CFL: 1.25e-03\n",
      "i:    660, sim time:  22.348, wall time: 51.974 seconds, Δt:  0.0386, advective CFL: 4.75e-01, diffusive CFL: 1.25e-03\n",
      "i:    670, sim time:  22.734, wall time: 52.429 seconds, Δt:  0.0386, advective CFL: 4.63e-01, diffusive CFL: 1.25e-03\n",
      "i:    680, sim time:  23.116, wall time: 52.871 seconds, Δt:  0.0386, advective CFL: 4.58e-01, diffusive CFL: 1.25e-03\n",
      "i:    690, sim time:  23.502, wall time: 53.315 seconds, Δt:  0.0386, advective CFL: 4.75e-01, diffusive CFL: 1.25e-03\n",
      "i:    700, sim time:  23.888, wall time: 53.756 seconds, Δt:  0.0392, advective CFL: 5.00e-01, diffusive CFL: 1.27e-03\n",
      "i:    710, sim time:  24.275, wall time: 54.191 seconds, Δt:  0.0392, advective CFL: 5.07e-01, diffusive CFL: 1.27e-03\n",
      "i:    720, sim time:  24.667, wall time: 54.639 seconds, Δt:  0.0392, advective CFL: 5.08e-01, diffusive CFL: 1.27e-03\n",
      "i:    730, sim time:  25.039, wall time: 55.144 seconds, Δt:  0.0392, advective CFL: 4.98e-01, diffusive CFL: 1.27e-03\n",
      "i:    740, sim time:  25.432, wall time: 55.588 seconds, Δt:  0.0392, advective CFL: 4.72e-01, diffusive CFL: 1.27e-03\n",
      "i:    750, sim time:  25.824, wall time: 56.050 seconds, Δt:  0.0432, advective CFL: 4.99e-01, diffusive CFL: 1.40e-03\n",
      "i:    760, sim time:  26.216, wall time: 56.484 seconds, Δt:  0.0432, advective CFL: 5.03e-01, diffusive CFL: 1.40e-03\n",
      "i:    770, sim time:  26.648, wall time: 56.935 seconds, Δt:  0.0432, advective CFL: 5.80e-01, diffusive CFL: 1.40e-03\n",
      "i:    780, sim time:  27.043, wall time: 57.390 seconds, Δt:  0.0432, advective CFL: 6.42e-01, diffusive CFL: 1.40e-03\n",
      "i:    790, sim time:  27.475, wall time: 57.822 seconds, Δt:  0.0432, advective CFL: 6.51e-01, diffusive CFL: 1.40e-03\n",
      "i:    800, sim time:  27.907, wall time: 58.280 seconds, Δt:  0.0340, advective CFL: 5.00e-01, diffusive CFL: 1.10e-03\n",
      "i:    810, sim time:  28.238, wall time: 58.731 seconds, Δt:  0.0340, advective CFL: 4.92e-01, diffusive CFL: 1.10e-03\n",
      "i:    820, sim time:  28.578, wall time: 59.261 seconds, Δt:  0.0340, advective CFL: 4.86e-01, diffusive CFL: 1.10e-03\n",
      "i:    830, sim time:  28.919, wall time: 59.712 seconds, Δt:  0.0340, advective CFL: 4.79e-01, diffusive CFL: 1.10e-03\n",
      "i:    840, sim time:  29.238, wall time: 1.003 minutes, Δt:  0.0340, advective CFL: 4.96e-01, diffusive CFL: 1.10e-03\n",
      "i:    850, sim time:  29.578, wall time: 1.010 minutes, Δt:  0.0349, advective CFL: 5.00e-01, diffusive CFL: 1.13e-03\n",
      "i:    860, sim time:  29.927, wall time: 1.018 minutes, Δt:  0.0349, advective CFL: 4.82e-01, diffusive CFL: 1.13e-03\n",
      "i:    870, sim time:  30.244, wall time: 1.025 minutes, Δt:  0.0349, advective CFL: 4.91e-01, diffusive CFL: 1.13e-03\n",
      "i:    880, sim time:  30.593, wall time: 1.033 minutes, Δt:  0.0349, advective CFL: 4.85e-01, diffusive CFL: 1.13e-03\n",
      "i:    890, sim time:  30.942, wall time: 1.040 minutes, Δt:  0.0349, advective CFL: 5.40e-01, diffusive CFL: 1.13e-03\n",
      "i:    900, sim time:  31.279, wall time: 1.048 minutes, Δt:  0.0313, advective CFL: 5.00e-01, diffusive CFL: 1.01e-03\n",
      "i:    910, sim time:  31.592, wall time: 1.055 minutes, Δt:  0.0313, advective CFL: 5.12e-01, diffusive CFL: 1.01e-03\n",
      "i:    920, sim time:  31.905, wall time: 1.063 minutes, Δt:  0.0313, advective CFL: 5.67e-01, diffusive CFL: 1.01e-03\n",
      "i:    930, sim time:  32.188, wall time: 1.070 minutes, Δt:  0.0313, advective CFL: 5.75e-01, diffusive CFL: 1.01e-03\n",
      "i:    940, sim time:  32.501, wall time: 1.078 minutes, Δt:  0.0313, advective CFL: 5.85e-01, diffusive CFL: 1.01e-03\n",
      "i:    950, sim time:  32.814, wall time: 1.085 minutes, Δt:  0.0284, advective CFL: 5.00e-01, diffusive CFL: 9.20e-04\n",
      "i:    960, sim time:  33.085, wall time: 1.093 minutes, Δt:  0.0284, advective CFL: 4.67e-01, diffusive CFL: 9.20e-04\n",
      "i:    970, sim time:  33.369, wall time: 1.100 minutes, Δt:  0.0284, advective CFL: 4.54e-01, diffusive CFL: 9.20e-04\n",
      "i:    980, sim time:  33.653, wall time: 1.108 minutes, Δt:  0.0284, advective CFL: 4.84e-01, diffusive CFL: 9.20e-04\n",
      "i:    990, sim time:  33.937, wall time: 1.116 minutes, Δt:  0.0284, advective CFL: 5.04e-01, diffusive CFL: 9.20e-04\n",
      "i:   1000, sim time:  34.199, wall time: 1.123 minutes, Δt:  0.0290, advective CFL: 5.00e-01, diffusive CFL: 9.40e-04\n",
      "i:   1010, sim time:  34.489, wall time: 1.132 minutes, Δt:  0.0290, advective CFL: 4.67e-01, diffusive CFL: 9.40e-04\n",
      "i:   1020, sim time:  34.779, wall time: 1.139 minutes, Δt:  0.0290, advective CFL: 4.82e-01, diffusive CFL: 9.40e-04\n",
      "i:   1030, sim time:  35.058, wall time: 1.147 minutes, Δt:  0.0290, advective CFL: 5.00e-01, diffusive CFL: 9.40e-04\n",
      "i:   1040, sim time:  35.348, wall time: 1.154 minutes, Δt:  0.0290, advective CFL: 5.28e-01, diffusive CFL: 9.40e-04\n",
      "i:   1050, sim time:  35.639, wall time: 1.162 minutes, Δt:  0.0262, advective CFL: 5.00e-01, diffusive CFL: 8.47e-04\n",
      "i:   1060, sim time:  35.900, wall time: 1.169 minutes, Δt:  0.0262, advective CFL: 5.11e-01, diffusive CFL: 8.47e-04\n",
      "i:   1070, sim time:  36.157, wall time: 1.177 minutes, Δt:  0.0262, advective CFL: 5.03e-01, diffusive CFL: 8.47e-04\n",
      "i:   1080, sim time:  36.418, wall time: 1.184 minutes, Δt:  0.0262, advective CFL: 4.83e-01, diffusive CFL: 8.47e-04\n",
      "i:   1090, sim time:  36.680, wall time: 1.192 minutes, Δt:  0.0262, advective CFL: 4.89e-01, diffusive CFL: 8.47e-04\n",
      "i:   1100, sim time:  36.941, wall time: 1.199 minutes, Δt:  0.0265, advective CFL: 5.00e-01, diffusive CFL: 8.59e-04\n",
      "i:   1110, sim time:  37.186, wall time: 1.207 minutes, Δt:  0.0265, advective CFL: 4.96e-01, diffusive CFL: 8.59e-04\n",
      "i:   1120, sim time:  37.451, wall time: 1.215 minutes, Δt:  0.0265, advective CFL: 4.72e-01, diffusive CFL: 8.59e-04\n",
      "i:   1130, sim time:  37.716, wall time: 1.223 minutes, Δt:  0.0265, advective CFL: 4.52e-01, diffusive CFL: 8.59e-04\n",
      "i:   1140, sim time:  37.982, wall time: 1.231 minutes, Δt:  0.0265, advective CFL: 4.74e-01, diffusive CFL: 8.59e-04\n",
      "i:   1150, sim time:  38.239, wall time: 1.238 minutes, Δt:  0.0272, advective CFL: 5.00e-01, diffusive CFL: 8.82e-04\n",
      "i:   1160, sim time:  38.511, wall time: 1.246 minutes, Δt:  0.0272, advective CFL: 5.03e-01, diffusive CFL: 8.82e-04\n",
      "i:   1170, sim time:  38.783, wall time: 1.254 minutes, Δt:  0.0272, advective CFL: 4.84e-01, diffusive CFL: 8.82e-04\n",
      "i:   1180, sim time:  39.054, wall time: 1.261 minutes, Δt:  0.0272, advective CFL: 4.58e-01, diffusive CFL: 8.82e-04\n",
      "i:   1190, sim time:  39.327, wall time: 1.269 minutes, Δt:  0.0272, advective CFL: 4.61e-01, diffusive CFL: 8.82e-04\n",
      "i:   1200, sim time:  39.599, wall time: 1.276 minutes, Δt:  0.0295, advective CFL: 5.00e-01, diffusive CFL: 9.56e-04\n",
      "i:   1210, sim time:  39.894, wall time: 1.285 minutes, Δt:  0.0295, advective CFL: 5.08e-01, diffusive CFL: 9.56e-04\n",
      "i:   1220, sim time:  40.177, wall time: 1.293 minutes, Δt:  0.0295, advective CFL: 5.11e-01, diffusive CFL: 9.56e-04\n",
      "i:   1230, sim time:  40.473, wall time: 1.301 minutes, Δt:  0.0295, advective CFL: 5.08e-01, diffusive CFL: 9.56e-04\n",
      "i:   1240, sim time:  40.768, wall time: 1.309 minutes, Δt:  0.0295, advective CFL: 5.19e-01, diffusive CFL: 9.56e-04\n",
      "i:   1250, sim time:  41.059, wall time: 1.318 minutes, Δt:  0.0273, advective CFL: 5.00e-01, diffusive CFL: 8.84e-04\n",
      "i:   1260, sim time:  41.332, wall time: 1.327 minutes, Δt:  0.0273, advective CFL: 5.17e-01, diffusive CFL: 8.84e-04\n",
      "i:   1270, sim time:  41.605, wall time: 1.335 minutes, Δt:  0.0273, advective CFL: 5.14e-01, diffusive CFL: 8.84e-04\n",
      "i:   1280, sim time:  41.878, wall time: 1.344 minutes, Δt:  0.0273, advective CFL: 4.97e-01, diffusive CFL: 8.84e-04\n",
      "i:   1290, sim time:  42.136, wall time: 1.352 minutes, Δt:  0.0273, advective CFL: 4.57e-01, diffusive CFL: 8.84e-04\n",
      "i:   1300, sim time:  42.409, wall time: 1.360 minutes, Δt:  0.0300, advective CFL: 4.93e-01, diffusive CFL: 9.72e-04\n",
      "i:   1310, sim time:  42.710, wall time: 1.367 minutes, Δt:  0.0300, advective CFL: 4.88e-01, diffusive CFL: 9.72e-04\n",
      "i:   1320, sim time:  43.000, wall time: 1.376 minutes, Δt:  0.0300, advective CFL: 4.79e-01, diffusive CFL: 9.72e-04\n",
      "i:   1330, sim time:  43.300, wall time: 1.385 minutes, Δt:  0.0300, advective CFL: 4.68e-01, diffusive CFL: 9.72e-04\n",
      "i:   1340, sim time:  43.600, wall time: 1.393 minutes, Δt:  0.0300, advective CFL: 4.61e-01, diffusive CFL: 9.72e-04\n",
      "i:   1350, sim time:  43.901, wall time: 1.401 minutes, Δt:  0.0322, advective CFL: 5.00e-01, diffusive CFL: 1.04e-03\n",
      "i:   1360, sim time:  44.193, wall time: 1.409 minutes, Δt:  0.0322, advective CFL: 5.12e-01, diffusive CFL: 1.04e-03\n",
      "i:   1370, sim time:  44.514, wall time: 1.418 minutes, Δt:  0.0322, advective CFL: 5.44e-01, diffusive CFL: 1.04e-03\n",
      "i:   1380, sim time:  44.836, wall time: 1.425 minutes, Δt:  0.0322, advective CFL: 5.39e-01, diffusive CFL: 1.04e-03\n",
      "i:   1390, sim time:  45.129, wall time: 1.433 minutes, Δt:  0.0322, advective CFL: 5.44e-01, diffusive CFL: 1.04e-03\n",
      "i:   1400, sim time:  45.450, wall time: 1.441 minutes, Δt:  0.0290, advective CFL: 5.00e-01, diffusive CFL: 9.38e-04\n",
      "i:   1410, sim time:  45.740, wall time: 1.449 minutes, Δt:  0.0290, advective CFL: 5.31e-01, diffusive CFL: 9.38e-04\n",
      "i:   1420, sim time:  46.029, wall time: 1.457 minutes, Δt:  0.0290, advective CFL: 5.81e-01, diffusive CFL: 9.38e-04\n",
      "i:   1430, sim time:  46.319, wall time: 1.464 minutes, Δt:  0.0290, advective CFL: 6.09e-01, diffusive CFL: 9.38e-04\n",
      "i:   1440, sim time:  46.608, wall time: 1.472 minutes, Δt:  0.0290, advective CFL: 6.12e-01, diffusive CFL: 9.38e-04\n",
      "i:   1450, sim time:  46.898, wall time: 1.480 minutes, Δt:  0.0241, advective CFL: 5.00e-01, diffusive CFL: 7.79e-04\n",
      "i:   1460, sim time:  47.120, wall time: 1.487 minutes, Δt:  0.0241, advective CFL: 4.95e-01, diffusive CFL: 7.79e-04\n",
      "i:   1470, sim time:  47.361, wall time: 1.495 minutes, Δt:  0.0241, advective CFL: 4.90e-01, diffusive CFL: 7.79e-04\n",
      "i:   1480, sim time:  47.602, wall time: 1.503 minutes, Δt:  0.0241, advective CFL: 4.79e-01, diffusive CFL: 7.79e-04\n",
      "i:   1490, sim time:  47.842, wall time: 1.511 minutes, Δt:  0.0241, advective CFL: 4.59e-01, diffusive CFL: 7.79e-04\n",
      "i:   1500, sim time:  48.072, wall time: 1.518 minutes, Δt:  0.0265, advective CFL: 4.96e-01, diffusive CFL: 8.57e-04\n",
      "i:   1510, sim time:  48.337, wall time: 1.526 minutes, Δt:  0.0265, advective CFL: 4.91e-01, diffusive CFL: 8.57e-04\n",
      "i:   1520, sim time:  48.602, wall time: 1.534 minutes, Δt:  0.0265, advective CFL: 4.90e-01, diffusive CFL: 8.57e-04\n",
      "i:   1530, sim time:  48.866, wall time: 1.542 minutes, Δt:  0.0265, advective CFL: 4.69e-01, diffusive CFL: 8.57e-04\n",
      "i:   1540, sim time:  49.106, wall time: 1.550 minutes, Δt:  0.0265, advective CFL: 4.68e-01, diffusive CFL: 8.57e-04\n",
      "i:   1550, sim time:  49.371, wall time: 1.557 minutes, Δt:  0.0282, advective CFL: 5.00e-01, diffusive CFL: 9.12e-04\n",
      "i:   1560, sim time:  49.652, wall time: 1.565 minutes, Δt:  0.0282, advective CFL: 4.89e-01, diffusive CFL: 9.12e-04\n",
      "i:   1570, sim time:  49.934, wall time: 1.573 minutes, Δt:  0.0282, advective CFL: 4.63e-01, diffusive CFL: 9.12e-04\n"
     ]
    },
    {
     "name": "stderr",
     "output_type": "stream",
     "text": [
      "┌ Info: Simulation is stopping after running for 1.576 minutes.\n",
      "└ @ Oceananigans.Simulations /Users/hfdrake/.julia/packages/Oceananigans/thcPW/src/Simulations/simulation.jl:202\n",
      "┌ Info: Simulation time 50 seconds equals or exceeds stop time 50 seconds.\n",
      "└ @ Oceananigans.Simulations /Users/hfdrake/.julia/packages/Oceananigans/thcPW/src/Simulations/simulation.jl:203\n"
     ]
    }
   ],
   "source": [
    "run!(simulation, pickup=false)"
   ]
  },
  {
   "cell_type": "code",
   "execution_count": 23,
   "metadata": {},
   "outputs": [],
   "source": [
    "using NCDatasets\n",
    "using CairoMakie\n",
    "using Printf\n",
    "using Oceananigans.Fields\n",
    "using Oceananigans.AbstractOperations: volume\n",
    "using NaNStatistics"
   ]
  },
  {
   "cell_type": "code",
   "execution_count": 16,
   "metadata": {},
   "outputs": [],
   "source": [
    "#load simulation data to create animation\n",
    "\n",
    "\n",
    "x = ds[\"xC\"][4+1:end-4]; Nx = length(x);\n",
    "#y = ds[\"yC\"][4+1:end-4]; Ny = length(y);\n",
    "z = ds[\"zC\"][4+1:end-4]; Nz = length(z);\n",
    "times = ds[\"time\"][:];\n",
    "\n",
    "t_final = times[end]\n",
    "\n",
    "b_timeseries = ds[\"b\"][4+1:end-4, 1, 4+1:end-4, :];\n"
   ]
  },
  {
   "cell_type": "code",
   "execution_count": 22,
   "metadata": {},
   "outputs": [
    {
     "data": {
      "text/plain": [
       "256"
      ]
     },
     "metadata": {},
     "output_type": "display_data"
    }
   ],
   "source": [
    "Nx"
   ]
  },
  {
   "cell_type": "code",
   "execution_count": 24,
   "metadata": {},
   "outputs": [
    {
     "name": "stderr",
     "output_type": "stream",
     "text": [
      "┌ Info: Creating animation from saved data ...\n",
      "└ @ Main /Users/hfdrake/code/HorizontalConvection/notebooks/VariableRayleighNum.ipynb:1\n"
     ]
    },
    {
     "data": {
      "text/plain": [
       "closed Dataset"
      ]
     },
     "metadata": {},
     "output_type": "display_data"
    }
   ],
   "source": [
    "@info \"Creating animation from saved data ...\"\n",
    "ds = NCDataset(string(\"/Users/hfdrake/code/HorizontalConvection/output/turbulent_h0.6_buoyancy.nc\"));\n",
    "\n",
    "times = ds[\"time\"][:]\n",
    "\n",
    "n = Observable(1)\n",
    "\n",
    "x = ds[\"xC\"][4+1:end-4]\n",
    "z = ds[\"zC\"][4+1:end-4]\n",
    "\n",
    "H =1 \n",
    "Lx = 8H\n",
    "\n",
    "bₙ = @lift ds[\"b\"][4+1:end-4, 1, 4+1:end-4, $n]\n",
    "\n",
    "fig = Figure(size = (800, 300))\n",
    "\n",
    "kwargs = (xlabel=L\"x/H\", \n",
    "               ylabel=L\"z/H\", \n",
    "               limits = ((-Lx/2, Lx/2), (-H, 0)), \n",
    "               aspect = Lx/H, \n",
    "               titlesize = 20)\n",
    "\n",
    "title = @lift @sprintf(\"nondimensional buoyancy at t = %.2f\", times[$n])\n",
    "\n",
    "ax_B = Axis(fig[1,1]; title = title, kwargs...)\n",
    "\n",
    "B_lims = (-0.6, 0.6)\n",
    "\n",
    "b = ds[\"b\"][4+1:end-4, 1, 4+1:end-4, 3] \n",
    "wet = b.!=0.\n",
    "b[.!wet] .= NaN\n",
    "wet_masked = Float64.(copy(wet))\n",
    "wet_masked[wet] .= NaN\n",
    "\n",
    "hm_b = heatmap!(ax_B, x, z, bₙ; colorrange = B_lims, colormap = :balance)\n",
    "hm = heatmap!(ax_B, x, z, wet_masked[:,:], colormap = :algae)\n",
    "Colorbar(fig[1,2], hm_b)\n",
    "\n",
    "frames = 1:length(times)\n",
    "\n",
    "record(fig, \"../animations/adjustedrayleigh.mp4\", frames, framerate = 8) do i \n",
    "    n[] = i \n",
    "end\n",
    "\n",
    "close(ds)"
   ]
  }
 ],
 "metadata": {
  "kernelspec": {
   "display_name": "Julia 1.10.4",
   "language": "julia",
   "name": "julia-1.10"
  },
  "language_info": {
   "file_extension": ".jl",
   "mimetype": "application/julia",
   "name": "julia",
   "version": "1.10.4"
  }
 },
 "nbformat": 4,
 "nbformat_minor": 2
}
